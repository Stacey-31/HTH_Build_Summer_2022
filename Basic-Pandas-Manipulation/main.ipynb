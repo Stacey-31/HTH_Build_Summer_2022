{
 "cells": [
  {
   "cell_type": "code",
   "execution_count": null,
   "metadata": {},
   "outputs": [],
   "source": [
    "import pandas as pd\n",
    "\n",
    "# Step 1: Use the appropriate pandas method to read the titanic data into your python file \n",
    "titanic_data = pd.read_csv(\"titanic.csv\")\n",
    "titanic_data"
   ]
  },
  {
   "cell_type": "code",
   "execution_count": null,
   "metadata": {},
   "outputs": [],
   "source": [
    "# Step 2(a): Use the pandas method that reads the first 25 lines of the dataset\n",
    "first_25_passengers = titanic_data.head(25)\n",
    "#first_25_passengers = titanic_data.iloc[0:25]\n",
    "first_25_passengers"
   ]
  },
  {
   "cell_type": "code",
   "execution_count": null,
   "metadata": {},
   "outputs": [],
   "source": [
    "# Step 2(b): Use the pandas method thats reads the last 25 lines of the dataset\n",
    "last_25_passengers = titanic_data.tail(25)\n",
    "last_25_passengers"
   ]
  },
  {
   "cell_type": "code",
   "execution_count": 10,
   "metadata": {},
   "outputs": [
    {
     "data": {
      "text/plain": [
       "(891, 12)"
      ]
     },
     "execution_count": 10,
     "metadata": {},
     "output_type": "execute_result"
    }
   ],
   "source": [
    "# Step 3: Use the pandas method that only tells us the number of rows and columns in our data\n",
    "titanic_shape = titanic_data.shape\n",
    "titanic_shape"
   ]
  },
  {
   "cell_type": "code",
   "execution_count": null,
   "metadata": {},
   "outputs": [],
   "source": [
    "# Step 4: Describe the titanic data\n",
    "titanic_description = titanic_data.describe()\n",
    "titanic_description"
   ]
  },
  {
   "cell_type": "code",
   "execution_count": null,
   "metadata": {},
   "outputs": [],
   "source": [
    "# Step 5(a): How many passengers were between the ages of 0 to 16? \n",
    "\n",
    "children = titanic_data[(titanic_data['Age'] <= 16) & (titanic_data['Age'] >=0)]\n",
    "children"
   ]
  },
  {
   "cell_type": "code",
   "execution_count": null,
   "metadata": {},
   "outputs": [],
   "source": [
    "# Step 5(b): How many passengers were between the ages of 17 to 25?\n",
    "young_adults = titanic_data[(titanic_data['Age'] <= 25) & (titanic_data['Age'] >=17)]\n",
    "young_adults"
   ]
  },
  {
   "cell_type": "code",
   "execution_count": null,
   "metadata": {},
   "outputs": [],
   "source": [
    "# Step 5(c): How many passengers were between the ages of 26 to 40?\n",
    "adults = titanic_data[(titanic_data['Age'] <= 40) & (titanic_data['Age'] >=26)]\n",
    "adults"
   ]
  },
  {
   "cell_type": "code",
   "execution_count": null,
   "metadata": {},
   "outputs": [],
   "source": [
    "# Step 5(d): How many passengers were between the ages of 41 to 59?\n",
    "mature_adults = titanic_data[(titanic_data['Age'] <= 59) & (titanic_data['Age'] >=41)]\n",
    "mature_adults"
   ]
  },
  {
   "cell_type": "code",
   "execution_count": null,
   "metadata": {},
   "outputs": [],
   "source": [
    "# Step 5(e): How many passengers were 60 or older?\n",
    "seniors = titanic_data[titanic_data['Age'] >=60]\n",
    "seniors"
   ]
  },
  {
   "cell_type": "code",
   "execution_count": 57,
   "metadata": {},
   "outputs": [
    {
     "data": {
      "text/plain": [
       "177"
      ]
     },
     "execution_count": 57,
     "metadata": {},
     "output_type": "execute_result"
    }
   ],
   "source": [
    "# Step 6: How many values are missing from the \"age\" column\n",
    "#missing_ages = len(titanic_data[titanic_data['Age'].isnull()])\n",
    "missing_ages = titanic_data['Age'].isnull().sum()\n",
    "#missing_ages = len(titanic_data) - titanic_data['Age'].count()\n",
    "#missing_ages = titanic_data['Age'].isna()\n",
    "#missing_ages = titanic_data[titanic_data['Age'].isna()] if want values add len\n",
    "#or missing_ages = titanic_datacount()['Age]\n",
    "missing_ages"
   ]
  },
  {
   "cell_type": "code",
   "execution_count": null,
   "metadata": {},
   "outputs": [],
   "source": [
    "# Step 7: List out all the available passengers' ages\n",
    "#age_list =  titanic_data['Age'].unique()\n",
    "#if want to remove unavalaible ages: \n",
    "age_list =  titanic_data['Age'].dropna().unique()\n",
    "age_list"
   ]
  },
  {
   "cell_type": "code",
   "execution_count": null,
   "metadata": {},
   "outputs": [],
   "source": [
    "# Step 8: Filter the DataFrame to find all passengers who boarded the Titanic at Port Cherbourg\n",
    "cherbourg_passengers = titanic_data[titanic_data['Embarked'] == 'C']\n",
    "cherbourg_passengers"
   ]
  },
  {
   "cell_type": "code",
   "execution_count": 49,
   "metadata": {},
   "outputs": [
    {
     "data": {
      "text/plain": [
       "27.915708812260537"
      ]
     },
     "execution_count": 49,
     "metadata": {},
     "output_type": "execute_result"
    }
   ],
   "source": [
    "# Step 9(a): Find the average age of all female passengers\n",
    "avg_fem_age = titanic_data[titanic_data['Sex']== 'female']['Age'].mean()\n",
    "avg_fem_age"
   ]
  },
  {
   "cell_type": "code",
   "execution_count": 51,
   "metadata": {},
   "outputs": [
    {
     "data": {
      "text/plain": [
       "30.72664459161148"
      ]
     },
     "execution_count": 51,
     "metadata": {},
     "output_type": "execute_result"
    }
   ],
   "source": [
    "# Step 9(b): Find the average age of all male passengers\n",
    "avg_male_age = titanic_data[titanic_data['Sex']== 'male']['Age'].mean()\n",
    "avg_male_age"
   ]
  },
  {
   "cell_type": "code",
   "execution_count": 54,
   "metadata": {},
   "outputs": [
    {
     "data": {
      "text/plain": [
       "55.35714285714286"
      ]
     },
     "execution_count": 54,
     "metadata": {},
     "output_type": "execute_result"
    }
   ],
   "source": [
    "# Step 10(a): Find the survival percentage of passengers in group \"C\"\n",
    "cherbourg_survival = titanic_data[titanic_data['Embarked'] == 'C']['Survived'].sum()\n",
    "total_cherbourgh = len(titanic_data[titanic_data['Embarked'] == 'C'])\n",
    "cherbourg_survival/total_cherbourgh *100"
   ]
  },
  {
   "cell_type": "code",
   "execution_count": 55,
   "metadata": {},
   "outputs": [
    {
     "data": {
      "text/plain": [
       "38.961038961038966"
      ]
     },
     "execution_count": 55,
     "metadata": {},
     "output_type": "execute_result"
    }
   ],
   "source": [
    "# Step 10(b): Find the survival percentage of passengers in group \"Q\"\n",
    "queenstown_survival = titanic_data[titanic_data['Embarked'] == 'Q']['Survived'].sum()\n",
    "total_queenstown = len(titanic_data[titanic_data['Embarked'] == 'Q'])\n",
    "queenstown_survival/ total_queenstown *100"
   ]
  },
  {
   "cell_type": "code",
   "execution_count": 58,
   "metadata": {},
   "outputs": [
    {
     "data": {
      "text/plain": [
       "33.69565217391305"
      ]
     },
     "execution_count": 58,
     "metadata": {},
     "output_type": "execute_result"
    }
   ],
   "source": [
    "# Step 10(c): Find the survival percentage of passengers in group \"S\"\n",
    "south_survival = titanic_data[titanic_data['Embarked'] == 'S']['Survived'].sum()\n",
    "total_south = len(titanic_data[titanic_data['Embarked'] == 'S'])\n",
    "south_survival/ total_south *100"
   ]
  }
 ],
 "metadata": {
  "kernelspec": {
   "display_name": "Python 3.8.9 64-bit",
   "language": "python",
   "name": "python3"
  },
  "language_info": {
   "codemirror_mode": {
    "name": "ipython",
    "version": 3
   },
   "file_extension": ".py",
   "mimetype": "text/x-python",
   "name": "python",
   "nbconvert_exporter": "python",
   "pygments_lexer": "ipython3",
   "version": "3.8.9"
  },
  "orig_nbformat": 4,
  "vscode": {
   "interpreter": {
    "hash": "31f2aee4e71d21fbe5cf8b01ff0e069b9275f58929596ceb00d14d90e3e16cd6"
   }
  }
 },
 "nbformat": 4,
 "nbformat_minor": 2
}
