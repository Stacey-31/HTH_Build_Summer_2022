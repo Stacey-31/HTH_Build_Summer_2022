{
 "cells": [
  {
   "cell_type": "code",
   "execution_count": 1,
   "id": "2587ad75",
   "metadata": {},
   "outputs": [],
   "source": [
    "#This cell is for any necessary imports or prelogic setting changes\n",
    "import sqlite3\n",
    "\n",
    "from sqlite3 import Error"
   ]
  },
  {
   "cell_type": "code",
   "execution_count": 25,
   "id": "ad55e0fc",
   "metadata": {},
   "outputs": [
    {
     "name": "stdout",
     "output_type": "stream",
     "text": [
      "Connection to SQLite DB successful\n",
      "Query executed successfully\n",
      "Query executed successfully\n",
      "Query executed successfully\n",
      "Query executed successfully\n",
      "Query executed successfully\n"
     ]
    }
   ],
   "source": [
    "#SQLite\n",
    "\n",
    "def create_connection_lite(path):\n",
    "    connection = None\n",
    "    try:\n",
    "        connection = sqlite3.connect(path)\n",
    "        print(\"Connection to SQLite DB successful\")\n",
    "    except sqlite3.Error as e:\n",
    "        print(f\"The error '{e}' occurred\")\n",
    "\n",
    "    return connection\n",
    "\n",
    "\n",
    "\n",
    "def execute_query(connection, query):\n",
    "    cursor = connection.cursor()\n",
    "    try:\n",
    "        cursor.execute(query)\n",
    "        connection.commit()\n",
    "        print(\"Query executed successfully\")\n",
    "    except sqlite3.Error as e:\n",
    "        print(f\"The error '{e}' occurred\")\n",
    "\n",
    "def execute_read_query(connection, query):\n",
    "    cursor = connection.cursor()\n",
    "    result = None\n",
    "    try:\n",
    "        cursor.execute(query)\n",
    "        result = cursor.fetchall()\n",
    "        return result\n",
    "    except sqlite3.Error as e:\n",
    "        print(f\"The error '{e}' occurred\")\n",
    "\n",
    "lite_connection = create_connection_lite(\"E:\\\\sm_app.sqlite\")\n",
    "\n",
    "create_users_table_query = \"\"\"\n",
    "CREATE TABLE IF NOT EXISTS users (\n",
    "  id INTEGER PRIMARY KEY AUTOINCREMENT,\n",
    "  name TEXT NOT NULL,\n",
    "  age INTEGER,\n",
    "  gender TEXT,\n",
    "  nationality TEXT\n",
    ");\n",
    "\"\"\"\n",
    "create_posts_table_query = \"\"\"\n",
    "CREATE TABLE IF NOT EXISTS posts(\n",
    "  id INTEGER PRIMARY KEY AUTOINCREMENT, \n",
    "  title TEXT NOT NULL, \n",
    "  description TEXT NOT NULL, \n",
    "  user_id INTEGER NOT NULL, \n",
    "  FOREIGN KEY (user_id) REFERENCES users (id)\n",
    ");\n",
    "\"\"\"\n",
    "create_comments_table_query = \"\"\"\n",
    "CREATE TABLE IF NOT EXISTS comments(\n",
    "  id INTEGER PRIMARY KEY AUTOINCREMENT,\n",
    "  text TEXT NOT NULL,\n",
    "  user_id INTEGER NOT NULL,\n",
    "  post_id INTEGER NOT NULL,\n",
    "  FOREIGN KEY (user_id) REFERENCES users (id) FOREIGN KEY(post_id) REFERENCES posts (id)\n",
    "\n",
    ");\n",
    "\"\"\"\n",
    "create_likes_table_query = \"\"\"\n",
    "CREATE TABLE IF NOT EXISTS likes (\n",
    "  id INTEGER PRIMARY KEY AUTOINCREMENT, \n",
    "  user_id INTEGER NOT NULL, \n",
    "  post_id integer NOT NULL, \n",
    "  FOREIGN KEY (user_id) REFERENCES users (id) FOREIGN KEY (post_id) REFERENCES posts (id)\n",
    ");\n",
    "\"\"\"\n",
    "create_users_query = \"\"\"\n",
    "INSERT INTO\n",
    "  users (name, age, gender, nationality)\n",
    "VALUES\n",
    "  ('James', 25, 'male', 'USA'),\n",
    "  ('Leila', 32, 'female', 'France'),\n",
    "  ('Brigitte', 35, 'female', 'England'),\n",
    "  ('Mike', 40, 'male', 'Denmark'),\n",
    "  ('Elizabeth', 21, 'female', 'Canada');\n",
    "\"\"\"\n",
    "create_posts_query = \"\"\"\n",
    "INSERT INTO\n",
    "  posts (title, description, user_id)\n",
    "VALUES\n",
    "  (\"Happy\", \"I am feeling very happy today\", 1),\n",
    "  (\"Hot Weather\", \"The weather is very hot today\", 2),\n",
    "  (\"Help\", \"I need some help with my work\", 2),\n",
    "  (\"Great News\", \"I am getting married\", 1),\n",
    "  (\"Interesting Game\", \"It was a fantastic game of tennis\", 5),\n",
    "  (\"Party\", \"Anyone up for a late-night party today?\", 3);\n",
    "\"\"\"\n",
    "\n",
    "execute_query(lite_connection, create_posts_query) \n",
    "\n",
    "#execute_query(lite_connection, create_users_query) \n",
    "\n",
    "execute_query(lite_connection, create_users_table_query)\n",
    "execute_query(lite_connection, create_posts_table_query)\n",
    "execute_query(lite_connection, create_comments_table_query)\n",
    "execute_query(lite_connection, create_likes_table_query)"
   ]
  },
  {
   "cell_type": "code",
   "execution_count": 31,
   "id": "16e7bb7e",
   "metadata": {},
   "outputs": [
    {
     "data": {
      "text/plain": [
       "[(1, 'James', 25, 'male', 'USA'),\n",
       " (2, 'Leila', 32, 'female', 'France'),\n",
       " (3, 'Brigitte', 35, 'female', 'England'),\n",
       " (4, 'Mike', 40, 'male', 'Denmark'),\n",
       " (5, 'Elizabeth', 21, 'female', 'Canada')]"
      ]
     },
     "execution_count": 31,
     "metadata": {},
     "output_type": "execute_result"
    }
   ],
   "source": [
    "#Reading sqlite records\n",
    "select_users = \"SELECT * from users\"\n",
    "users = execute_read_query(lite_connection, select_users)\n",
    "\n",
    "#for user in users:\n",
    "    #print(user)\n",
    "\n",
    "users"
   ]
  }
 ],
 "metadata": {
  "kernelspec": {
   "display_name": "Python 3 (ipykernel)",
   "language": "python",
   "name": "python3"
  },
  "language_info": {
   "codemirror_mode": {
    "name": "ipython",
    "version": 3
   },
   "file_extension": ".py",
   "mimetype": "text/x-python",
   "name": "python",
   "nbconvert_exporter": "python",
   "pygments_lexer": "ipython3",
   "version": "3.8.9"
  },
  "vscode": {
   "interpreter": {
    "hash": "31f2aee4e71d21fbe5cf8b01ff0e069b9275f58929596ceb00d14d90e3e16cd6"
   }
  }
 },
 "nbformat": 4,
 "nbformat_minor": 5
}
