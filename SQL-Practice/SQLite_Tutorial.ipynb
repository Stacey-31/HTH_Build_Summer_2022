{
 "cells": [
  {
   "cell_type": "code",
   "execution_count": 1,
   "id": "26274d84",
   "metadata": {},
   "outputs": [],
   "source": [
    "#Cell for importing\n",
    "import sqlite3\n",
    "import pandas as pd"
   ]
  },
  {
   "cell_type": "code",
   "execution_count": 2,
   "id": "8d2102ce",
   "metadata": {},
   "outputs": [],
   "source": [
    "#creating a SQLite Database. \n",
    "#The connect function creates a connection to the SQLite database \n",
    "#and returns an object to represent it.\n",
    "\n",
    "conn = sqlite3.connect('orders.db')"
   ]
  },
  {
   "cell_type": "code",
   "execution_count": 3,
   "id": "bce52fa9",
   "metadata": {},
   "outputs": [],
   "source": [
    "#create a cursor object:allows users to execute SQL queries agaisnt a database.\n",
    "\n",
    "cur = conn.cursor()\n",
    "\n",
    "# cur.execute(\"YOUR-SQL-QUERY-HERE;\")"
   ]
  },
  {
   "cell_type": "code",
   "execution_count": 4,
   "id": "82c3ed46",
   "metadata": {
    "scrolled": false
   },
   "outputs": [],
   "source": [
    "# Reset Tables\n",
    "cur.execute(\"\"\"DROP TABLE IF EXISTS users\"\"\")\n",
    "cur.execute(\"\"\"DROP TABLE IF EXISTS orders\"\"\")\n",
    "conn.commit()"
   ]
  },
  {
   "cell_type": "code",
   "execution_count": 5,
   "id": "9a4686d5",
   "metadata": {},
   "outputs": [],
   "source": [
    "#Creating a table\n",
    "\n",
    "#users table\n",
    "cur.execute(\"\"\"CREATE TABLE IF NOT EXISTS users(\n",
    "   userid INT PRIMARY KEY,\n",
    "   fname TEXT,\n",
    "   lname TEXT,\n",
    "   gender TEXT);\n",
    "\"\"\")\n",
    "conn.commit()\n",
    "\n",
    "#orders table\n",
    "cur.execute(\"\"\"CREATE TABLE IF NOT EXISTS orders(\n",
    "   orderid INT PRIMARY KEY,\n",
    "   date TEXT,\n",
    "   userid TEXT,\n",
    "   total TEXT);\n",
    "\"\"\")\n",
    "conn.commit()\n",
    "\n",
    "\n"
   ]
  },
  {
   "cell_type": "code",
   "execution_count": 6,
   "id": "0b25002f",
   "metadata": {},
   "outputs": [],
   "source": [
    "#adding data\n",
    "\n",
    "cur.execute(\"\"\"INSERT INTO users(userid, fname, lname, gender) \n",
    "   VALUES('00001', 'Nik', 'Piepenbreier', 'male');\"\"\")\n",
    "user = ('00002', 'Lois', 'Lane', 'Female')\n",
    "more_users = [('00003', 'Peter', 'Parker', 'Male'), ('00004', 'Bruce', 'Wayne', 'male')]\n",
    "customers = [('00005', 'Stephanie', 'Stewart', 'female'), ('00006', 'Sincere', 'Sherman', 'female'), ('00007', 'Sidney', 'Horn', 'male'), ('00008', 'Litzy', 'Yates', 'female'), ('00009', 'Jaxon', 'Mills', 'male'), ('00010', 'Paul', 'Richard', 'male'), ('00011', 'Kamari', 'Holden', 'female'), ('00012', 'Gaige', 'Summers', 'female'), ('00013', 'Andrea', 'Snow', 'female'), ('00014', 'Angelica', 'Barnes', 'female'), ('00015', 'Leah', 'Pitts', 'female'), ('00016', 'Dillan', 'Olsen', 'male'), ('00017', 'Joe', 'Walsh', 'male'), ('00018', 'Reagan', 'Cooper', 'male'), ('00019', 'Aubree', 'Hogan', 'female'), ('00020', 'Avery', 'Floyd', 'male'), ('00021', 'Elianna', 'Simmons', 'female'), ('00022', 'Rodney', 'Stout', 'male'), ('00023', 'Elaine', 'Mcintosh', 'female'), ('00024', 'Myla', 'Mckenzie', 'female'), ('00025', 'Alijah', 'Horn', 'female'), ('00026', 'Rohan', 'Peterson', 'male'), ('00027', 'Irene', 'Walters', 'female'), ('00028', 'Lilia', 'Sellers', 'female'), ('00029', 'Perla', 'Jefferson', 'female'), ('00030', 'Ashley', 'Klein', 'female')]\n",
    "orders = [('00001', '2020-01-01', '00025', '178'), ('00002', '2020-01-03', '00025', '39'), ('00003', '2020-01-07', '00016', '153'), ('00004', '2020-01-10', '00015', '110'), ('00005', '2020-01-11', '00024', '219'), ('00006', '2020-01-12', '00029', '37'), ('00007', '2020-01-14', '00028', '227'), ('00008', '2020-01-18', '00010', '232'), ('00009', '2020-01-22', '00016', '236'), ('00010', '2020-01-26', '00017', '116'), ('00011', '2020-01-28', '00028', '221'), ('00012', '2020-01-31', '00021', '238'), ('00013', '2020-02-02', '00015', '177'), ('00014', '2020-02-05', '00025', '76'), ('00015', '2020-02-08', '00022', '245'), ('00016', '2020-02-12', '00008', '180'), ('00017', '2020-02-14', '00020', '190'), ('00018', '2020-02-18', '00030', '166'), ('00019', '2020-02-22', '00002', '168'), ('00020', '2020-02-26', '00021', '174'), ('00021', '2020-02-29', '00017', '126'), ('00022', '2020-03-02', '00019', '211'), ('00023', '2020-03-05', '00030', '144'), ('00024', '2020-03-09', '00012', '112'), ('00025', '2020-03-10', '00006', '45'), ('00026', '2020-03-11', '00004', '200'), ('00027', '2020-03-14', '00015', '226'), ('00028', '2020-03-17', '00030', '189'), ('00029', '2020-03-20', '00004', '152'), ('00030', '2020-03-22', '00026', '239'), ('00031', '2020-03-23', '00012', '135'), ('00032', '2020-03-24', '00013', '211'), ('00033', '2020-03-27', '00030', '226'), ('00034', '2020-03-28', '00007', '173'), ('00035', '2020-03-30', '00010', '144'), ('00036', '2020-04-01', '00017', '185'), ('00037', '2020-04-03', '00009', '95'), ('00038', '2020-04-06', '00009', '138'), ('00039', '2020-04-10', '00025', '223'), ('00040', '2020-04-12', '00019', '118'), ('00041', '2020-04-15', '00024', '132'), ('00042', '2020-04-18', '00008', '238'), ('00043', '2020-04-21', '00003', '50'), ('00044', '2020-04-25', '00019', '98'), ('00045', '2020-04-26', '00017', '167'), ('00046', '2020-04-28', '00009', '215'), ('00047', '2020-05-01', '00014', '142'), ('00048', '2020-05-05', '00022', '173'), ('00049', '2020-05-06', '00015', '80'), ('00050', '2020-05-07', '00017', '37'), ('00051', '2020-05-08', '00002', '36'), ('00052', '2020-05-10', '00022', '65'), ('00053', '2020-05-14', '00019', '110'), ('00054', '2020-05-18', '00017', '36'), ('00055', '2020-05-21', '00008', '163'), ('00056', '2020-05-24', '00024', '91'), ('00057', '2020-05-26', '00028', '154'), ('00058', '2020-05-30', '00022', '130'), ('00059', '2020-05-31', '00017', '119'), ('00060', '2020-06-01', '00024', '137'), ('00061', '2020-06-03', '00017', '206'), ('00062', '2020-06-04', '00013', '100'), ('00063', '2020-06-05', '00021', '187'), ('00064', '2020-06-09', '00025', '170'), ('00065', '2020-06-11', '00011', '149'), ('00066', '2020-06-12', '00007', '195'), ('00067', '2020-06-14', '00015', '30'), ('00068', '2020-06-16', '00002', '246'), ('00069', '2020-06-20', '00028', '163'), ('00070', '2020-06-22', '00005', '184'), ('00071', '2020-06-23', '00022', '68'), ('00072', '2020-06-27', '00013', '92'), ('00073', '2020-06-30', '00022', '149'), ('00074', '2020-07-04', '00002', '65'), ('00075', '2020-07-05', '00017', '88'), ('00076', '2020-07-09', '00007', '156'), ('00077', '2020-07-13', '00010', '26'), ('00078', '2020-07-16', '00008', '55'), ('00079', '2020-07-20', '00019', '81'), ('00080', '2020-07-22', '00011', '78'), ('00081', '2020-07-23', '00026', '166'), ('00082', '2020-07-27', '00014', '65'), ('00083', '2020-07-30', '00021', '205'), ('00084', '2020-08-01', '00026', '140'), ('00085', '2020-08-05', '00006', '236'), ('00086', '2020-08-06', '00021', '208'), ('00087', '2020-08-07', '00021', '169'), ('00088', '2020-08-08', '00004', '157'), ('00089', '2020-08-11', '00017', '71'), ('00090', '2020-08-13', '00025', '89'), ('00091', '2020-08-16', '00014', '249'), ('00092', '2020-08-18', '00012', '59'), ('00093', '2020-08-19', '00013', '121'), ('00094', '2020-08-20', '00025', '179'), ('00095', '2020-08-22', '00017', '208'), ('00096', '2020-08-26', '00024', '217'), ('00097', '2020-08-28', '00004', '206'), ('00098', '2020-08-30', '00017', '114'), ('00099', '2020-08-31', '00017', '169'), ('00100', '2020-09-02', '00022', '226')]\n",
    "\n",
    "cur.execute(\"INSERT INTO users VALUES(?, ?, ?, ?);\", user)\n",
    "cur.executemany(\"INSERT INTO users VALUES(?, ?, ?, ?);\", more_users)\n",
    "cur.executemany(\"INSERT INTO users VALUES(?, ?, ?, ?);\", customers)\n",
    "cur.executemany(\"INSERT INTO orders VALUES(?, ?, ?, ?);\", orders)\n",
    "conn.commit()"
   ]
  },
  {
   "cell_type": "code",
   "execution_count": 7,
   "id": "9b80a359",
   "metadata": {},
   "outputs": [],
   "source": [
    "#Selecting data\n",
    "\n",
    "#fetchone() function: fetches for the first data\n",
    "cur.execute(\"SELECT * FROM users;\")\n",
    "one_result = cur.fetchone()\n",
    "#print(one_result)\n",
    "\n",
    "#fetchmany() function:\n",
    "cur.execute(\"SELECT * FROM users;\")\n",
    "three_results = cur.fetchmany(3)\n",
    "#print(three_results)\n",
    "\n",
    "#fetchall() function: returns all results\n",
    "cur.execute(\"SELECT * FROM users;\")\n",
    "all_results = cur.fetchall()\n",
    "#print(all_results)"
   ]
  },
  {
   "cell_type": "code",
   "execution_count": 8,
   "id": "cf97e8b7",
   "metadata": {},
   "outputs": [
    {
     "data": {
      "text/plain": [
       "<sqlite3.Cursor at 0x1154893b0>"
      ]
     },
     "execution_count": 8,
     "metadata": {},
     "output_type": "execute_result"
    }
   ],
   "source": [
    "#deleting data\n",
    "\n",
    "cur.execute(\"DELETE FROM users WHERE lname='Parker';\")\n",
    "conn.commit()\n",
    "\n",
    "\n",
    "cur.execute(\"select * from users where lname='Parker'\")\n",
    "#print(cur.fetchall())"
   ]
  },
  {
   "cell_type": "code",
   "execution_count": 9,
   "id": "5467b727",
   "metadata": {},
   "outputs": [
    {
     "data": {
      "text/plain": [
       "<sqlite3.Cursor at 0x1154893b0>"
      ]
     },
     "execution_count": 9,
     "metadata": {},
     "output_type": "execute_result"
    }
   ],
   "source": [
    "#joining tables \n",
    "\n",
    "cur.execute(\"\"\"SELECT *, users.fname, users.lname FROM orders\n",
    "    LEFT JOIN users ON users.userid=orders.userid;\"\"\")\n",
    "#print(cur.fetchall())"
   ]
  },
  {
   "cell_type": "code",
   "execution_count": 10,
   "id": "0d985f9f",
   "metadata": {},
   "outputs": [
    {
     "data": {
      "text/html": [
       "<div>\n",
       "<style scoped>\n",
       "    .dataframe tbody tr th:only-of-type {\n",
       "        vertical-align: middle;\n",
       "    }\n",
       "\n",
       "    .dataframe tbody tr th {\n",
       "        vertical-align: top;\n",
       "    }\n",
       "\n",
       "    .dataframe thead th {\n",
       "        text-align: right;\n",
       "    }\n",
       "</style>\n",
       "<table border=\"1\" class=\"dataframe\">\n",
       "  <thead>\n",
       "    <tr style=\"text-align: right;\">\n",
       "      <th></th>\n",
       "      <th>userid</th>\n",
       "      <th>fname</th>\n",
       "      <th>lname</th>\n",
       "      <th>gender</th>\n",
       "      <th>orderid</th>\n",
       "      <th>date</th>\n",
       "      <th>userid</th>\n",
       "      <th>total</th>\n",
       "    </tr>\n",
       "  </thead>\n",
       "  <tbody>\n",
       "    <tr>\n",
       "      <th>0</th>\n",
       "      <td>25</td>\n",
       "      <td>Alijah</td>\n",
       "      <td>Horn</td>\n",
       "      <td>female</td>\n",
       "      <td>1</td>\n",
       "      <td>2020-01-01</td>\n",
       "      <td>00025</td>\n",
       "      <td>178</td>\n",
       "    </tr>\n",
       "    <tr>\n",
       "      <th>1</th>\n",
       "      <td>25</td>\n",
       "      <td>Alijah</td>\n",
       "      <td>Horn</td>\n",
       "      <td>female</td>\n",
       "      <td>2</td>\n",
       "      <td>2020-01-03</td>\n",
       "      <td>00025</td>\n",
       "      <td>39</td>\n",
       "    </tr>\n",
       "    <tr>\n",
       "      <th>2</th>\n",
       "      <td>16</td>\n",
       "      <td>Dillan</td>\n",
       "      <td>Olsen</td>\n",
       "      <td>male</td>\n",
       "      <td>3</td>\n",
       "      <td>2020-01-07</td>\n",
       "      <td>00016</td>\n",
       "      <td>153</td>\n",
       "    </tr>\n",
       "    <tr>\n",
       "      <th>3</th>\n",
       "      <td>15</td>\n",
       "      <td>Leah</td>\n",
       "      <td>Pitts</td>\n",
       "      <td>female</td>\n",
       "      <td>4</td>\n",
       "      <td>2020-01-10</td>\n",
       "      <td>00015</td>\n",
       "      <td>110</td>\n",
       "    </tr>\n",
       "    <tr>\n",
       "      <th>4</th>\n",
       "      <td>24</td>\n",
       "      <td>Myla</td>\n",
       "      <td>Mckenzie</td>\n",
       "      <td>female</td>\n",
       "      <td>5</td>\n",
       "      <td>2020-01-11</td>\n",
       "      <td>00024</td>\n",
       "      <td>219</td>\n",
       "    </tr>\n",
       "    <tr>\n",
       "      <th>...</th>\n",
       "      <td>...</td>\n",
       "      <td>...</td>\n",
       "      <td>...</td>\n",
       "      <td>...</td>\n",
       "      <td>...</td>\n",
       "      <td>...</td>\n",
       "      <td>...</td>\n",
       "      <td>...</td>\n",
       "    </tr>\n",
       "    <tr>\n",
       "      <th>94</th>\n",
       "      <td>24</td>\n",
       "      <td>Myla</td>\n",
       "      <td>Mckenzie</td>\n",
       "      <td>female</td>\n",
       "      <td>96</td>\n",
       "      <td>2020-08-26</td>\n",
       "      <td>00024</td>\n",
       "      <td>217</td>\n",
       "    </tr>\n",
       "    <tr>\n",
       "      <th>95</th>\n",
       "      <td>4</td>\n",
       "      <td>Bruce</td>\n",
       "      <td>Wayne</td>\n",
       "      <td>male</td>\n",
       "      <td>97</td>\n",
       "      <td>2020-08-28</td>\n",
       "      <td>00004</td>\n",
       "      <td>206</td>\n",
       "    </tr>\n",
       "    <tr>\n",
       "      <th>96</th>\n",
       "      <td>17</td>\n",
       "      <td>Joe</td>\n",
       "      <td>Walsh</td>\n",
       "      <td>male</td>\n",
       "      <td>98</td>\n",
       "      <td>2020-08-30</td>\n",
       "      <td>00017</td>\n",
       "      <td>114</td>\n",
       "    </tr>\n",
       "    <tr>\n",
       "      <th>97</th>\n",
       "      <td>17</td>\n",
       "      <td>Joe</td>\n",
       "      <td>Walsh</td>\n",
       "      <td>male</td>\n",
       "      <td>99</td>\n",
       "      <td>2020-08-31</td>\n",
       "      <td>00017</td>\n",
       "      <td>169</td>\n",
       "    </tr>\n",
       "    <tr>\n",
       "      <th>98</th>\n",
       "      <td>22</td>\n",
       "      <td>Rodney</td>\n",
       "      <td>Stout</td>\n",
       "      <td>male</td>\n",
       "      <td>100</td>\n",
       "      <td>2020-09-02</td>\n",
       "      <td>00022</td>\n",
       "      <td>226</td>\n",
       "    </tr>\n",
       "  </tbody>\n",
       "</table>\n",
       "<p>99 rows × 8 columns</p>\n",
       "</div>"
      ],
      "text/plain": [
       "   userid   fname     lname  gender  orderid        date userid total\n",
       "0      25  Alijah      Horn  female        1  2020-01-01  00025   178\n",
       "1      25  Alijah      Horn  female        2  2020-01-03  00025    39\n",
       "2      16  Dillan     Olsen    male        3  2020-01-07  00016   153\n",
       "3      15    Leah     Pitts  female        4  2020-01-10  00015   110\n",
       "4      24    Myla  Mckenzie  female        5  2020-01-11  00024   219\n",
       "..    ...     ...       ...     ...      ...         ...    ...   ...\n",
       "94     24    Myla  Mckenzie  female       96  2020-08-26  00024   217\n",
       "95      4   Bruce     Wayne    male       97  2020-08-28  00004   206\n",
       "96     17     Joe     Walsh    male       98  2020-08-30  00017   114\n",
       "97     17     Joe     Walsh    male       99  2020-08-31  00017   169\n",
       "98     22  Rodney     Stout    male      100  2020-09-02  00022   226\n",
       "\n",
       "[99 rows x 8 columns]"
      ]
     },
     "execution_count": 10,
     "metadata": {},
     "output_type": "execute_result"
    }
   ],
   "source": [
    "df = pd.read_sql_query(\"\"\"\n",
    "SELECT * \n",
    "FROM users\n",
    "INNER JOIN orders\n",
    "ON users.userid=orders.userid\n",
    ";\"\"\", conn)\n",
    "df"
   ]
  },
  {
   "cell_type": "code",
   "execution_count": null,
   "id": "3012c9bf",
   "metadata": {},
   "outputs": [],
   "source": []
  }
 ],
 "metadata": {
  "kernelspec": {
   "display_name": "Python 3 (ipykernel)",
   "language": "python",
   "name": "python3"
  },
  "language_info": {
   "codemirror_mode": {
    "name": "ipython",
    "version": 3
   },
   "file_extension": ".py",
   "mimetype": "text/x-python",
   "name": "python",
   "nbconvert_exporter": "python",
   "pygments_lexer": "ipython3",
   "version": "3.8.9"
  }
 },
 "nbformat": 4,
 "nbformat_minor": 5
}
