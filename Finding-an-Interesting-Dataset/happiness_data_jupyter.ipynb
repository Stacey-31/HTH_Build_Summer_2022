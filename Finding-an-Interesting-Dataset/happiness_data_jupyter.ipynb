{
 "cells": [
  {
   "cell_type": "markdown",
   "metadata": {},
   "source": [
    "### What are 10 (or more) questions that you hope to answer through your data analysis?\n",
    "\n",
    "No. | Question\n",
    ":-:|:-\n",
    "1 | What is the happiest country?\n",
    "2 | Which factors have the maximum correlation with happiness?\n",
    "3 | How can the absence or presence of family affect happiness score?  #Answer with visualization\n",
    "4| What is the average happiness score of each region?\n",
    "5| Which countries rank the highest in each category?\n",
    "6| How does each country’s dystopia score compare to the average? Is it higher or lower?\n",
    "7| How has each country's ranks changed between 2019 and 2021?\n",
    "8| Did any country experience a significant or impactful increase or decrease in happiness?\n",
    "9| How has corruption impacted happiness during the two year?\n",
    "10| Which year were people the happiest? What factors contributed to that?"
   ]
  },
  {
   "cell_type": "code",
   "execution_count": 4,
   "metadata": {},
   "outputs": [],
   "source": [
    "import pandas\n",
    "\n",
    "pandas.options.display.max_columns = None\n",
    "pandas.options.display.max_rows = None\n",
    "\n",
    "csv_data19 = pandas.read_csv(\"Happiness_data_2019.csv\")\n",
    "\n",
    "csv_data21 = pandas.read_csv(\"Happiness_data_2021.csv\")\n"
   ]
  },
  {
   "cell_type": "code",
   "execution_count": null,
   "metadata": {},
   "outputs": [],
   "source": [
    "csv_data19.describe()"
   ]
  },
  {
   "cell_type": "code",
   "execution_count": null,
   "metadata": {},
   "outputs": [],
   "source": [
    "csv_data21.describe()"
   ]
  },
  {
   "cell_type": "code",
   "execution_count": null,
   "metadata": {},
   "outputs": [],
   "source": [
    "#Question 1 | What is the happiest country?"
   ]
  },
  {
   "cell_type": "code",
   "execution_count": null,
   "metadata": {},
   "outputs": [],
   "source": [
    "#Question 2 | Which factors have the maximum correlation with happiness?"
   ]
  },
  {
   "cell_type": "code",
   "execution_count": null,
   "metadata": {},
   "outputs": [],
   "source": [
    "#Question 3 | How can the absence or presence of family affect happiness score?  #Answer with visualization"
   ]
  },
  {
   "cell_type": "code",
   "execution_count": null,
   "metadata": {},
   "outputs": [],
   "source": [
    "#Question 4| What is the average happiness score of each region?"
   ]
  },
  {
   "cell_type": "code",
   "execution_count": null,
   "metadata": {},
   "outputs": [],
   "source": [
    "#Question 5| Which countries rank the highest in each category?"
   ]
  },
  {
   "cell_type": "code",
   "execution_count": null,
   "metadata": {},
   "outputs": [],
   "source": [
    "#Question 6| How does each country’s dystopia score compare to the average? Is it higher or lower?"
   ]
  },
  {
   "cell_type": "code",
   "execution_count": null,
   "metadata": {},
   "outputs": [],
   "source": [
    "#Question 7| How has each country's ranks changed between 2019 and 2021?"
   ]
  },
  {
   "cell_type": "code",
   "execution_count": null,
   "metadata": {},
   "outputs": [],
   "source": [
    "#Question 8| Did any country experience a significant or impactful increase or decrease in happiness?"
   ]
  },
  {
   "cell_type": "code",
   "execution_count": null,
   "metadata": {},
   "outputs": [],
   "source": [
    "#Question 9| How has corruption impacted happiness during the two year?"
   ]
  },
  {
   "cell_type": "code",
   "execution_count": null,
   "metadata": {},
   "outputs": [],
   "source": [
    "#Question 10| Which year were people the happiest? What factors contributed to that?"
   ]
  }
 ],
 "metadata": {
  "kernelspec": {
   "display_name": "Python 3.8.9 64-bit",
   "language": "python",
   "name": "python3"
  },
  "language_info": {
   "codemirror_mode": {
    "name": "ipython",
    "version": 3
   },
   "file_extension": ".py",
   "mimetype": "text/x-python",
   "name": "python",
   "nbconvert_exporter": "python",
   "pygments_lexer": "ipython3",
   "version": "3.8.9"
  },
  "orig_nbformat": 4,
  "vscode": {
   "interpreter": {
    "hash": "31f2aee4e71d21fbe5cf8b01ff0e069b9275f58929596ceb00d14d90e3e16cd6"
   }
  }
 },
 "nbformat": 4,
 "nbformat_minor": 2
}
